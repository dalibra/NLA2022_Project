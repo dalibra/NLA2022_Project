{
  "nbformat": 4,
  "nbformat_minor": 0,
  "metadata": {
    "colab": {
      "provenance": []
    },
    "kernelspec": {
      "name": "python3",
      "display_name": "Python 3"
    },
    "language_info": {
      "name": "python"
    }
  },
  "cells": [
    {
      "cell_type": "code",
      "execution_count": null,
      "metadata": {
        "id": "px4YsIy7cTcx"
      },
      "outputs": [],
      "source": [
        "import numpy as np\n",
        "from tensorflow import keras\n",
        "from keras.datasets import mnist\n",
        "import matplotlib.pyplot as plt\n",
        "\n",
        "import seaborn as sns\n",
        "sns.set_style('whitegrid')"
      ]
    },
    {
      "cell_type": "markdown",
      "source": [
        "Algorithm 1. Sparse similarity matching (SPASM)."
      ],
      "metadata": {
        "id": "oX5bqZEaAxUs"
      }
    },
    {
      "cell_type": "code",
      "source": [
        "# Obtaining the batch of MNIST images reshaped into vectors\n",
        "\n",
        "(X_train, y_train), (X_test, y_test) = keras.datasets.mnist.load_data()\n",
        "batch_size = 300\n",
        "X = X_train[:batch_size].reshape(batch_size,-1).T"
      ],
      "metadata": {
        "id": "gHgQMFt4cwTa"
      },
      "execution_count": null,
      "outputs": []
    },
    {
      "cell_type": "code",
      "source": [
        "# Step 1. Initialization of S\n",
        "\n",
        "k = 5e-5\n",
        "\n",
        "def Init_S(X, k):\n",
        "  norm_X = np.linalg.norm(X, axis=0)\n",
        "  S = X.T @ X - k * np.outer(norm_X,norm_X)\n",
        "  Sum = S.sum()\n",
        "  S = np.maximum(0, S)\n",
        "  return S, Sum\n",
        "\n",
        "def Init_L(X, k):\n",
        "  norm_X = np.linalg.norm(X, axis=0)\n",
        "  L = X.T @ X - k * np.outer(norm_X,norm_X)\n",
        "  return L\n",
        "\n",
        "S0, sum0 = Init_S(X, k)"
      ],
      "metadata": {
        "id": "nLRVr_cCedDc"
      },
      "execution_count": null,
      "outputs": []
    },
    {
      "cell_type": "code",
      "source": [
        "# Baseline embedding\n",
        "\n",
        "d = 32\n",
        "U, _, _ = np.linalg.svd(X)\n",
        "P = U[:,:d].T @ X"
      ],
      "metadata": {
        "id": "iZVc-SlNgUqk"
      },
      "execution_count": null,
      "outputs": []
    },
    {
      "cell_type": "code",
      "source": [
        "# Step 2. Computing L\n",
        "\n",
        "def Iterat_ZL(S, sum, L, d):\n",
        "  n0 = np.shape(S)[0]*np.shape(S)[1] - np.count_nonzero(S)\n",
        "\n",
        "  loss = []\n",
        "  for _ in range(100):\n",
        "\n",
        "    Z = np.where(S > 0, S, np.minimum(0, L))\n",
        "    sumZ = np.sum(Z)\n",
        "\n",
        "    Z = np.where(S > 0, S, np.minimum(0, L) + 1/n0*max(0, sum-sumZ))\n",
        "    \n",
        "    D, Q = np.linalg.eig(Z)\n",
        "    L = Q[:,:d] @ np.diag(D[:d]) @ Q[:,:d].T\n",
        "    L = L.real # otherwise leaves .0 j\n",
        "    loss.append(np.linalg.norm(L-Z))\n",
        "\n",
        "  return L, loss\n",
        "\n",
        "\n",
        "L0 = Init_L(P, k)\n",
        "L0, loss0 = Iterat_ZL(S0, sum0, L0, d)"
      ],
      "metadata": {
        "id": "ofwzAcIsk9qw"
      },
      "execution_count": null,
      "outputs": []
    },
    {
      "cell_type": "code",
      "source": [
        "plt.figure(figsize=[8,5])\n",
        "plt.plot(loss0)\n",
        "plt.xlabel('Number of iterations')\n",
        "plt.ylabel('Loss')\n",
        "plt.title('Frobenius norm of difference between Z and L');"
      ],
      "metadata": {
        "id": "nRHK_Aodsx4l",
        "colab": {
          "base_uri": "https://localhost:8080/",
          "height": 350
        },
        "outputId": "f4efcab5-31bc-4012-d309-e1b895dea548"
      },
      "execution_count": null,
      "outputs": [
        {
          "output_type": "display_data",
          "data": {
            "text/plain": [
              "<Figure size 576x360 with 1 Axes>"
            ],
            "image/png": "[encoded data removed]"
          },
          "metadata": {}
        }
      ]
    },
    {
      "cell_type": "code",
      "source": [
        "# Step 3. Computimg G\n",
        "\n",
        "G = np.zeros((batch_size,batch_size))\n",
        "\n",
        "for i in range(batch_size):\n",
        "  for j in range(batch_size):\n",
        "    G[i,j] = L0[i,j] + k/(1-k)*(abs(L0[i,i]*L0[j,j]))**.5"
      ],
      "metadata": {
        "id": "oxp9uO_WtDJl"
      },
      "execution_count": null,
      "outputs": []
    },
    {
      "cell_type": "code",
      "source": [
        "print('Amount of nonzeros in S divided by the total number of elements:',np.count_nonzero(S0)/(np.shape(S0)[0]*np.shape(S0)[1]))\n",
        "print('rank(S) = ', np.linalg.matrix_rank(S0))\n",
        "print('rank(G) = ', np.linalg.matrix_rank(G),' - got a matrix of dramatically lower rank')"
      ],
      "metadata": {
        "colab": {
          "base_uri": "https://localhost:8080/"
        },
        "id": "t0_nPJlTTok7",
        "outputId": "973afee4-953a-4c21-aebc-57aa437758d7"
      },
      "execution_count": null,
      "outputs": [
        {
          "output_type": "stream",
          "name": "stdout",
          "text": [
            "Amount of nonzeros in S divided by the total number of elements: 0.07847777777777777\n",
            "rank(S) =  230\n",
            "rank(G) =  33  - got a matrix of dramatically lower rank\n"
          ]
        }
      ]
    },
    {
      "cell_type": "code",
      "source": [
        "# In case when the inner products are not perfectly consistent with the matrix L\n",
        "\n",
        "Lambda, V = np.linalg.eig(G)\n",
        "Y = (np.maximum(0, Lambda[:d].real))**.5 * V[:,:d].real"
      ],
      "metadata": {
        "id": "pFyaq2nx_ap_"
      },
      "execution_count": null,
      "outputs": []
    },
    {
      "cell_type": "code",
      "source": [
        "# Evaluating the solution using Jaccard index\n",
        "\n",
        "def get_JACCARD(X, d, k):\n",
        "  S, sumS = Init_S(X, k)\n",
        "  U, _, _ = np.linalg.svd(X)\n",
        "  P = U[:,:d].T @ X\n",
        "  L_SVD = Init_L(P, k)\n",
        "  L_SPASM, _ = Iterat_ZL(S, sumS, L_SVD, d)\n",
        "\n",
        "  ind_SPASM = np.sum(np.where((S>0)&(L_SPASM>0), 1,0))/np.sum(np.where((S>0) | (L_SPASM>0), 1,0))\n",
        "  ind_SVD = np.sum(np.where((S>0)&(L_SVD>0), 1,0))/np.sum(np.where((S>0) | (L_SVD>0), 1,0))\n",
        "\n",
        "  return ind_SPASM, ind_SVD"
      ],
      "metadata": {
        "id": "k1QobTgbfEqX"
      },
      "execution_count": null,
      "outputs": []
    },
    {
      "cell_type": "code",
      "source": [
        "k = 5e-5\n",
        "ds = [4, 8, 16, 32, 64, 128, 256]\n",
        "ind_SPASMs, ind_SVDs = [], []\n",
        "for d in ds:\n",
        "  ind_SPASM, ind_SVD = get_JACCARD(X, d, k)\n",
        "  ind_SPASMs.append(ind_SPASM)\n",
        "  ind_SVDs.append(ind_SVD)"
      ],
      "metadata": {
        "id": "V_fqorJogIlc"
      },
      "execution_count": null,
      "outputs": []
    },
    {
      "cell_type": "code",
      "source": [
        "plt.figure(figsize=[10,7])\n",
        "plt.plot(ds, ind_SPASMs,label='SPASM')\n",
        "plt.plot(ds, ind_SVDs,label='SVD')\n",
        "plt.xlabel('Dimensionality')\n",
        "plt.ylabel('Jaccard index')\n",
        "plt.legend()\n",
        "plt.title('Jaccard index comparison');"
      ],
      "metadata": {
        "colab": {
          "base_uri": "https://localhost:8080/",
          "height": 458
        },
        "id": "0weCTfv4gl-x",
        "outputId": "26045ff0-5f0b-4439-c78b-19f20a69338e"
      },
      "execution_count": null,
      "outputs": [
        {
          "output_type": "display_data",
          "data": {
            "text/plain": [
              "<Figure size 720x504 with 1 Axes>"
            ],
            "image/png": "[encoded data removed]"
          },
          "metadata": {}
        }
      ]
    },
    {
      "cell_type": "markdown",
      "source": [
        "Algorithm 2. Local linear extension."
      ],
      "metadata": {
        "id": "bdMK-25JA7jh"
      }
    },
    {
      "cell_type": "code",
      "source": [
        "# Taken from https://github.com/JAVI897/LLE-and-its-variants/blob/master/LLE/example%20LLE.ipynb\n",
        "# with two corrections: 1) No weight normalization 2) cosine distances instead of the ordinary one\n",
        "from sklearn.metrics import pairwise_distances\n",
        "import numpy as np\n",
        "import matplotlib.pyplot as plt\n",
        "from mpl_toolkits.mplot3d import Axes3D\n",
        "import scipy as sp\n",
        "import sklearn as skl\n",
        "from sklearn.metrics.pairwise import cosine_distances\n",
        "\n",
        "class LLE:\n",
        "    def __init__(self, X, k_n, dim, reg = 1e-03, verbose = False, sparsity = False):\n",
        "        \"\"\"\n",
        "        LLE object\n",
        "        Parameters\n",
        "        ----------\n",
        "        \n",
        "        X: nxd matrix\n",
        "        k_n: number of neighbours\n",
        "        dim: number of coordinates\n",
        "        reg: regularization constant\n",
        "        \"\"\"\n",
        "        self.X = X\n",
        "        self.k_n = k_n\n",
        "        self.dim = dim\n",
        "        self.reg = reg if self.k_n > self.dim else 0\n",
        "        self.n = self.X.shape[0]\n",
        "        self.verbose = verbose\n",
        "        self.sparsity = sparsity\n",
        "        \n",
        "    def _compute_weights(self):\n",
        "        \"\"\"\n",
        "        Compute weights\n",
        "        \"\"\"\n",
        "        \n",
        "        # dist_matrix = pairwise_distances(self.X)\n",
        "        dist_matrix = cosine_distances(self.X) # - after the authors\n",
        "        # k_n nearest neighbor indices\n",
        "        knn_matrix = np.argsort(dist_matrix, axis = 1)[:, 1 : self.k_n + 1]\n",
        "        \n",
        "        W = [] # Initialize nxn weight matrix\n",
        "        for i in range(self.n):\n",
        "            x_i = self.X[i]\n",
        "            G = [] # Local covariance matrix\n",
        "            for j in range(self.k_n):\n",
        "                x_j = self.X[knn_matrix[i][j]]\n",
        "                G_aux = []\n",
        "                for k in range(self.k_n):\n",
        "                    x_k = self.X[knn_matrix[i][k]]\n",
        "                    gjk = np.dot((x_i - x_j), (x_i - x_k))\n",
        "                    G_aux.append(gjk)\n",
        "                G.append(G_aux)\n",
        "            G = np.array(G)\n",
        "            G = G + self.reg*np.eye(*G.shape) # Regularization for G\n",
        "            w = np.linalg.solve(G, np.ones((self.k_n))) # Calculate weights for x_i\n",
        "            # w = w / w.sum() # Normalize weights; sum(w)=1 - removed after the authors\n",
        "            \n",
        "            if self.verbose and i % 30 == 0:\n",
        "                print('[INFO] Weights calculated for {} observations'.format(i + 1))\n",
        "                \n",
        "            # Create an 1xn array that will contain a 0 if x_j is not a \n",
        "            # neighbour of x_i, otherwise it will cointain the weight of x_j\n",
        "            w_all = np.zeros((1, self.n))\n",
        "            np.put(w_all, knn_matrix[i], w)\n",
        "            W.append(list(w_all[0]))\n",
        "        return np.array(W)"
      ],
      "metadata": {
        "id": "TCZg13Wh1Otl"
      },
      "execution_count": null,
      "outputs": []
    },
    {
      "cell_type": "code",
      "source": [
        "# now we take the batch bigger and trying to embed remaining 200 vectors based on the embedding of the first 300\n",
        "size = 500\n",
        "X_new = X_train[:size].reshape(size,-1).T"
      ],
      "metadata": {
        "id": "L5nAPIsrhNha"
      },
      "execution_count": null,
      "outputs": []
    },
    {
      "cell_type": "code",
      "source": [
        "k = 30 # number of neighbours\n",
        "lle = LLE(X_new.T, k, d, sparsity = True) # X.T, because it takes as an input (batch_size, ndim)\n",
        "W = lle._compute_weights() \n",
        "W = W.real"
      ],
      "metadata": {
        "id": "v-JlAqvg2kjF"
      },
      "execution_count": null,
      "outputs": []
    },
    {
      "cell_type": "code",
      "source": [
        "np.linalg.matrix_rank(W)"
      ],
      "metadata": {
        "colab": {
          "base_uri": "https://localhost:8080/"
        },
        "id": "xJ4sagvaCJQM",
        "outputId": "20d2b3fa-7e01-41ac-f5ef-febaf8c2f07e"
      },
      "execution_count": null,
      "outputs": [
        {
          "output_type": "execute_result",
          "data": {
            "text/plain": [
              "500"
            ]
          },
          "metadata": {},
          "execution_count": 171
        }
      ]
    },
    {
      "cell_type": "code",
      "source": [
        "m = G.shape[0] # number of landmarks\n",
        "A, B, C, D = W[:W.shape[0]-m,:W.shape[0]-m], W[:W.shape[0]-m,W.shape[0]-m:], W[W.shape[0]-m:,:W.shape[0]-m], W[W.shape[0]-m:,W.shape[0]-m:]"
      ],
      "metadata": {
        "id": "0HZAME5pLRfE"
      },
      "execution_count": null,
      "outputs": []
    },
    {
      "cell_type": "code",
      "source": [
        "def PCG(y,A,B,C,D,om=1):\n",
        "  CTAC = A.T@A + C.T@C\n",
        "  # M = 1/om*(np.eye(A.shape[0]) * np.diag(CTAC) + om*np.tril(CTAC,-1)) - this preconditioner used to work once\n",
        "  M = np.eye(A.shape[0])\n",
        "  f = np.random.randn(C.shape[1])\n",
        "  r = -(A.T@B + C.T@D) @ y - CTAC @ f\n",
        "  z = np.linalg.inv(M) @ r\n",
        "  p = r\n",
        "  while np.linalg.norm(r) > 1e-10:\n",
        "    alpha = (r.T @ z)/(p.T @ CTAC @ p)\n",
        "    f = f + alpha * p\n",
        "    r_prev = r\n",
        "    r = r - alpha * CTAC @ p\n",
        "    z_prev = z\n",
        "    z = np.linalg.inv(M) @ r\n",
        "    beta = (r.T @ z)/(r_prev @ z_prev)\n",
        "    p = z + beta * p\n",
        "  return f"
      ],
      "metadata": {
        "id": "Zxz5T5qtAvIV"
      },
      "execution_count": null,
      "outputs": []
    },
    {
      "cell_type": "code",
      "source": [
        "y_LLE = []\n",
        "for i in range(20):\n",
        "  y_LLE.append(PCG(G[i].T,A,B,C,D))"
      ],
      "metadata": {
        "id": "p0BmrQ-aHXLD"
      },
      "execution_count": null,
      "outputs": []
    },
    {
      "cell_type": "markdown",
      "source": [
        "Here we computed 20 vectors containing the first 20 coordinates of all 200 vectors we want to reconstruct using LLE. In principle one could paralellize it and obtain remaining 764 coordinates of each vector."
      ],
      "metadata": {
        "id": "E6MXhBI1P-eE"
      }
    },
    {
      "cell_type": "markdown",
      "source": [
        "Inititally we wanted to use preconditioned CG and it actually worked in one of the versions of the code, but in up to date version fails for some reason, so we left the ordinary CG."
      ],
      "metadata": {
        "id": "f68j22IzQiqH"
      }
    }
  ]
}